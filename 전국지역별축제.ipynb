{
 "cells": [
  {
   "cell_type": "code",
   "execution_count": null,
   "id": "9874cde5-2c38-460c-956f-7499601b4742",
   "metadata": {
    "scrolled": true
   },
   "outputs": [],
   "source": [
    "import pandas as pd\n",
    "import folium\n",
    "\n",
    "from folium.plugins import MarkerCluster\n",
    "\n",
    "df = pd.read_csv(\"events_100.csv\")\n",
    "df.dropna( subset=['lat', 'lon'] ) #결측치 제거\n",
    "\n",
    "#위도의 평균, 경도의 평균을 지도 시작점으로 처리\n",
    "m = folium.Map( location=[df[\"lat\"].mean(), df[\"lon\"].mean()], zoom_start=8 )\n",
    "\n",
    "m_cluster = MarkerCluster().add_to(m)\n",
    "\n",
    "category_colors = {\n",
    "    \"축제\" : \"red\",\n",
    "    \"공연\" : \"blue\",\n",
    "    \"체험\" : \"green\",\n",
    "    \"문화\" : \"purple\",\n",
    "    \"과학\" : \"orange\",\n",
    "    \"전시\" : \"cadeblue\",\n",
    "    \"전통\" : \"darkred\"\n",
    "}\n",
    "\n",
    "for _, row in df.iterrows():\n",
    "    c = category_colors.get(row[\"category\"], \"black\")\n",
    "\n",
    "    img_html = f'<img src=\"{row['img']}\" width=\"100\" height=\"100\" style=\"float:left\">'\n",
    "    \n",
    "    popup_box = f'''\n",
    "        <div style=\"width:300px\";margin-left:20px;>\n",
    "            {img_html}\n",
    "            <div style=\"overflow:hidden\">\n",
    "                <h4>{row['title']}</h4>\n",
    "                <span style=\"font-size:12px\">카테고리 : { row[\"category\"] }</span><br>\n",
    "                <span style=\"font-size:12px\">기간 : { row[\"start_date\"] }  ~ {row[\"end_date\"]}</span><br>\n",
    "                <span style=\"font-size:12px\">대상연령: { row[\"target_age\"] }</span><br>\n",
    "                <span style=\"font-size:12px\">대상성별 : { row[\"target_gender\"] }</span><br>\n",
    "                <span style=\"font-size:12px\">태그 : { row[\"tags\"] }</span><br>\n",
    "                <span style=\"font-size:12px\"> <a href='{row[\"url\"]}' target=\"_blank\">홈페이지</a>  </span>\n",
    "            </div>\n",
    "        </div>\n",
    "    '''\n",
    "    \n",
    "    folium.Marker(\n",
    "        location=[  row[\"lat\"], row[\"lon\"] ],\n",
    "        tooltip=row[\"title\"],\n",
    "        icon=folium.Icon(color=c),\n",
    "        popup=folium.Popup(popup_box, max_width=300)\n",
    "    ).add_to(m_cluster)\n",
    "\n",
    "m\n",
    "m.save(\"festival_events_map.html\")\n"
   ]
  },
  {
   "cell_type": "code",
   "execution_count": null,
   "id": "f821c097-6f12-41e2-9592-8e6929c3310a",
   "metadata": {},
   "outputs": [],
   "source": []
  }
 ],
 "metadata": {
  "kernelspec": {
   "display_name": "Python 3 (ipykernel)",
   "language": "python",
   "name": "python3"
  },
  "language_info": {
   "codemirror_mode": {
    "name": "ipython",
    "version": 3
   },
   "file_extension": ".py",
   "mimetype": "text/x-python",
   "name": "python",
   "nbconvert_exporter": "python",
   "pygments_lexer": "ipython3",
   "version": "3.13.9"
  }
 },
 "nbformat": 4,
 "nbformat_minor": 5
}
